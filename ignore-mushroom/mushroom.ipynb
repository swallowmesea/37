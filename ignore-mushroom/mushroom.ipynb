{
 "cells": [
  {
   "cell_type": "markdown",
   "id": "8e7e8ae5-a45a-4275-af87-ec0acb92b331",
   "metadata": {},
   "source": [
    "introduction:"
   ]
  },
  {
   "cell_type": "markdown",
   "id": "128abd49-4afb-4710-b4d0-862cba819c42",
   "metadata": {},
   "source": [
    "preliminary exploratory data analysis (resources): https://www.kaggle.com/datasets/uciml/mushroom-classification"
   ]
  },
  {
   "cell_type": "code",
   "execution_count": 24,
   "id": "b42f9c9d-8d07-4254-a71e-df3f8e21f86d",
   "metadata": {},
   "outputs": [],
   "source": [
    "#code packages\n",
    "library(tidyverse)\n",
    "library(repr)\n",
    "library(tidymodels)\n",
    "options(repr.matrix.max.rows = 6)"
   ]
  },
  {
   "cell_type": "code",
   "execution_count": 45,
   "id": "fecc2991-4e3d-4934-9e8d-801bbfa24000",
   "metadata": {},
   "outputs": [
    {
     "name": "stderr",
     "output_type": "stream",
     "text": [
      "\u001b[1mRows: \u001b[22m\u001b[34m8124\u001b[39m \u001b[1mColumns: \u001b[22m\u001b[34m23\u001b[39m\n",
      "\u001b[36m──\u001b[39m \u001b[1mColumn specification\u001b[22m \u001b[36m────────────────────────────────────────────────────────\u001b[39m\n",
      "\u001b[1mDelimiter:\u001b[22m \",\"\n",
      "\u001b[31mchr\u001b[39m (22): class, cap-shape, cap-surface, cap-color, odor, gill-attachment, g...\n",
      "\u001b[33mlgl\u001b[39m  (1): bruises\n",
      "\n",
      "\u001b[36mℹ\u001b[39m Use `spec()` to retrieve the full column specification for this data.\n",
      "\u001b[36mℹ\u001b[39m Specify the column types or set `show_col_types = FALSE` to quiet this message.\n"
     ]
    },
    {
     "ename": "ERROR",
     "evalue": "Error in `contrasts<-`(`*tmp*`, value = contr.funs[1 + isOF[nn]]): contrasts can be applied only to factors with 2 or more levels\n",
     "output_type": "error",
     "traceback": [
      "Error in `contrasts<-`(`*tmp*`, value = contr.funs[1 + isOF[nn]]): contrasts can be applied only to factors with 2 or more levels\nTraceback:\n",
      "1. fit(knn_spec, class ~ cap_shape + cap_surface + bruises + odor + \n .     gill_attachment + gill_spacing + gill_size + stalk_shape + \n .     stalk_root + stalk_surface_above_ring + stalk_surface_below_ring + \n .     stalk_color_above_ring + stalk_color_below_ring + veil_type + \n .     veil_color + ring_number + ring_type + spore_print_color + \n .     population + habitat, data = mushroom)",
      "2. fit.model_spec(knn_spec, class ~ cap_shape + cap_surface + bruises + \n .     odor + gill_attachment + gill_spacing + gill_size + stalk_shape + \n .     stalk_root + stalk_surface_above_ring + stalk_surface_below_ring + \n .     stalk_color_above_ring + stalk_color_below_ring + veil_type + \n .     veil_color + ring_number + ring_type + spore_print_color + \n .     population + habitat, data = mushroom)",
      "3. form_form(object = object, control = control, env = eval_env)",
      "4. eval_mod(fit_call, capture = control$verbosity == 0, catch = control$catch, \n .     envir = env, ...)",
      "5. eval_tidy(e, env = envir, ...)",
      "6. kknn::train.kknn(formula = class ~ cap_shape + cap_surface + \n .     bruises + odor + gill_attachment + gill_spacing + gill_size + \n .     stalk_shape + stalk_root + stalk_surface_above_ring + stalk_surface_below_ring + \n .     stalk_color_above_ring + stalk_color_below_ring + veil_type + \n .     veil_color + ring_number + ring_type + spore_print_color + \n .     population + habitat, data = data, ks = min_rows(5, data, \n .     5), kernel = ~\"rectangular\")",
      "7. model.matrix(mt, mf)",
      "8. model.matrix.default(mt, mf)",
      "9. `contrasts<-`(`*tmp*`, value = contr.funs[1 + isOF[nn]])",
      "10. stop(\"contrasts can be applied only to factors with 2 or more levels\")"
     ]
    }
   ],
   "source": [
    "mushroom <- read_csv('data/mushrooms.csv')\n",
    "\n",
    "#cleaning data\n",
    "mushroom <- mushroom |>\n",
    "mutate(class = as_factor(class))\n",
    "\n",
    "names(mushroom)[names(mushroom) == \"cap-shape\"] <- \"cap_shape\"\n",
    "names(mushroom)[names(mushroom) == \"cap-surface\"] <- \"cap_surface\"\n",
    "names(mushroom)[names(mushroom) == \"cap-color\"] <- \"cap_color\"\n",
    "names(mushroom)[names(mushroom) == \"gill-attachment\"] <- \"gill_attachment\"\n",
    "names(mushroom)[names(mushroom) == \"gill-spacing\"] <- \"gill_spacing\"\n",
    "names(mushroom)[names(mushroom) == \"gill-size\"] <- \"gill_size\"\n",
    "names(mushroom)[names(mushroom) == \"gill-color\"] <- \"gill_color\"\n",
    "names(mushroom)[names(mushroom) == \"stalk-shape\"] <- \"stalk_shape\"\n",
    "names(mushroom)[names(mushroom) == \"stalk-root\"] <- \"stalk_root\"\n",
    "names(mushroom)[names(mushroom) == \"stalk-surface-above-ring\"] <- \"stalk_surface_above_ring\"\n",
    "names(mushroom)[names(mushroom) == \"stalk-surface-below-ring\"] <- \"stalk_surface_below_ring\"\n",
    "names(mushroom)[names(mushroom) == \"stalk-color-above-ring\"] <- \"stalk_color_above_ring\"\n",
    "names(mushroom)[names(mushroom) == \"stalk-color-below-ring\"] <- \"stalk_color_below_ring\"\n",
    "names(mushroom)[names(mushroom) == \"veil-type\"] <- \"veil_type\"\n",
    "names(mushroom)[names(mushroom) == \"veil-color\"] <- \"veil_color\"\n",
    "names(mushroom)[names(mushroom) == \"ring-number\"] <- \"ring_number\"\n",
    "names(mushroom)[names(mushroom) == \"ring-type\"] <- \"ring_type\"\n",
    "names(mushroom)[names(mushroom) == \"spore-print-color\"] <- \"spore_print_color\"\n",
    "\n",
    "# colnames(mushroom)\n",
    "# head(mushroom)\n",
    "\n",
    "#general training data. no specified predictors\n",
    "knn_spec <- nearest_neighbor(weight_func = 'rectangular', neighbors = 5) |>\n",
    "      set_engine('kknn') |>\n",
    "      set_mode('classification')\n",
    "\n",
    "# mushroom_fit <- knn_spec |>\n",
    "# fit(class ~ ., data = mushroom)\n",
    "# mushroom_fit\n",
    "mushroom_fit <- knn_spec |>\n",
    "fit(class ~ cap_shape + cap_surface + bruises + odor + gill_attachment + gill_spacing + gill_size + stalk_shape +\n",
    "    stalk_root + stalk_surface_above_ring + stalk_surface_below_ring + stalk_color_above_ring +\n",
    "    stalk_color_below_ring + veil_type + veil_color + ring_number + ring_type + spore_print_color + population +\n",
    "    habitat, data = mushroom)\n",
    "mushroom_fit\n",
    "\n",
    "#tibble"
   ]
  },
  {
   "cell_type": "markdown",
   "id": "a06c8fed-9cc6-4c8b-9137-283efeacafcc",
   "metadata": {},
   "source": [
    "methods:"
   ]
  },
  {
   "cell_type": "markdown",
   "id": "797e63e2-8e0e-44e9-8c3f-6ec24593a215",
   "metadata": {},
   "source": [
    "expected outcome and significance:"
   ]
  }
 ],
 "metadata": {
  "kernelspec": {
   "display_name": "R",
   "language": "R",
   "name": "ir"
  },
  "language_info": {
   "codemirror_mode": "r",
   "file_extension": ".r",
   "mimetype": "text/x-r-source",
   "name": "R",
   "pygments_lexer": "r",
   "version": "4.3.1"
  }
 },
 "nbformat": 4,
 "nbformat_minor": 5
}

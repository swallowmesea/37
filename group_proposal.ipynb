{
 "cells": [
  {
   "cell_type": "markdown",
   "id": "f1f9d272-5667-4358-ad51-ead6184c6ad0",
   "metadata": {},
   "source": [
    "introduction:"
   ]
  },
  {
   "cell_type": "code",
   "execution_count": 3,
   "id": "2484b1b3-1476-4775-bd10-22d8a81f65a7",
   "metadata": {},
   "outputs": [],
   "source": [
    "#code packages\n",
    "library(tidyverse)\n",
    "library(repr)\n",
    "library(tidymodels)\n",
    "options(repr.matrix.max.rows = 6)"
   ]
  },
  {
   "cell_type": "code",
   "execution_count": 30,
   "id": "3e806e9f-ae5b-4283-bb7d-52914c5fcbbe",
   "metadata": {},
   "outputs": [
    {
     "name": "stderr",
     "output_type": "stream",
     "text": [
      "\u001b[1mRows: \u001b[22m\u001b[34m1599\u001b[39m \u001b[1mColumns: \u001b[22m\u001b[34m12\u001b[39m\n",
      "\u001b[36m──\u001b[39m \u001b[1mColumn specification\u001b[22m \u001b[36m────────────────────────────────────────────────────────\u001b[39m\n",
      "\u001b[1mDelimiter:\u001b[22m \";\"\n",
      "\u001b[32mdbl\u001b[39m (12): fixed acidity, volatile acidity, citric acid, residual sugar, chlo...\n",
      "\n",
      "\u001b[36mℹ\u001b[39m Use `spec()` to retrieve the full column specification for this data.\n",
      "\u001b[36mℹ\u001b[39m Specify the column types or set `show_col_types = FALSE` to quiet this message.\n"
     ]
    },
    {
     "data": {
      "text/html": [
       "<table class=\"dataframe\">\n",
       "<caption>A tibble: 2 × 3</caption>\n",
       "<thead>\n",
       "\t<tr><th scope=col>.metric</th><th scope=col>.estimator</th><th scope=col>.estimate</th></tr>\n",
       "\t<tr><th scope=col>&lt;chr&gt;</th><th scope=col>&lt;chr&gt;</th><th scope=col>&lt;dbl&gt;</th></tr>\n",
       "</thead>\n",
       "<tbody>\n",
       "\t<tr><td>accuracy</td><td>multiclass</td><td>0.5236908</td></tr>\n",
       "\t<tr><td>kap     </td><td>multiclass</td><td>0.2319471</td></tr>\n",
       "</tbody>\n",
       "</table>\n"
      ],
      "text/latex": [
       "A tibble: 2 × 3\n",
       "\\begin{tabular}{lll}\n",
       " .metric & .estimator & .estimate\\\\\n",
       " <chr> & <chr> & <dbl>\\\\\n",
       "\\hline\n",
       "\t accuracy & multiclass & 0.5236908\\\\\n",
       "\t kap      & multiclass & 0.2319471\\\\\n",
       "\\end{tabular}\n"
      ],
      "text/markdown": [
       "\n",
       "A tibble: 2 × 3\n",
       "\n",
       "| .metric &lt;chr&gt; | .estimator &lt;chr&gt; | .estimate &lt;dbl&gt; |\n",
       "|---|---|---|\n",
       "| accuracy | multiclass | 0.5236908 |\n",
       "| kap      | multiclass | 0.2319471 |\n",
       "\n"
      ],
      "text/plain": [
       "  .metric  .estimator .estimate\n",
       "1 accuracy multiclass 0.5236908\n",
       "2 kap      multiclass 0.2319471"
      ]
     },
     "metadata": {},
     "output_type": "display_data"
    },
    {
     "data": {
      "text/plain": [
       "          Truth\n",
       "Prediction   3   4   5   6   7   8\n",
       "         3   0   0   0   0   0   0\n",
       "         4   0   0   0   0   0   0\n",
       "         5   1   9 112  55   9   1\n",
       "         6   0   7  52  83  24   1\n",
       "         7   0   0   5  25  15   2\n",
       "         8   0   0   0   0   0   0"
      ]
     },
     "metadata": {},
     "output_type": "display_data"
    }
   ],
   "source": [
    "#preliminary data: https://archive.ics.uci.edu/dataset/186/wine+quality\n",
    "\n",
    "#data\n",
    "red_wine <- read_delim('data/winequality-red.csv', delim = ';')\n",
    "red_wine <- red_wine |>\n",
    "mutate(quality = as_factor(quality))\n",
    "colnames(red_wine) <- c(\"fixed_acidity\",\"volatile_acidity\",\"citric_acid\",\"residual_sugar\", \"chlorides\",\n",
    "\"free_sulfur_dioxide\", \"total_sulfur_dioxide\", \"density\", \"pH\", \"sulphates\", \"alcohol\", \"quality\")\n",
    "# colnames(red_wine)\n",
    "# head(red_wine)\n",
    "\n",
    "#general training data\n",
    "wine_split <- initial_split(red_wine, prop = 0.75, strata = quality)\n",
    "wine_train <- training(wine_split)\n",
    "wine_test <- testing(wine_split)\n",
    "# wine_train\n",
    "# wine_test\n",
    "\n",
    "#choosing random predictors lol, using training data\n",
    "wine_recipe <- recipe(quality ~ fixed_acidity + pH + alcohol, data = wine_train) |>\n",
    "step_scale(all_predictors()) |>\n",
    "step_center(all_predictors())\n",
    "#wine_recipe\n",
    "\n",
    "wine_spec <- nearest_neighbor(weight_func = 'rectangular', neighbors = 5) |>\n",
    "set_engine('kknn') |>\n",
    "set_mode('classification')\n",
    "\n",
    "\n",
    "wine_fit <- workflow() |>\n",
    "add_recipe(wine_recipe) |>\n",
    "add_model(wine_spec)|>\n",
    "fit(data = wine_train)\n",
    "\n",
    "wine_predict <- predict(wine_fit, wine_test) |>\n",
    "bind_cols(wine_test)\n",
    "#wine_predict\n",
    "\n",
    "wine_accuracy <- wine_predict |>\n",
    "metrics(truth = quality, estimate = .pred_class)\n",
    "wine_accuracy\n",
    "\n",
    "wine_mat <- wine_predict |>\n",
    "conf_mat(truth = quality, estimate = .pred_class)\n",
    "wine_mat"
   ]
  },
  {
   "cell_type": "markdown",
   "id": "19e2cc57-ed04-4733-8887-b35ed474b9cf",
   "metadata": {},
   "source": [
    "methods:"
   ]
  },
  {
   "cell_type": "markdown",
   "id": "e94e01c3-9b8e-4e91-bad1-8bc9d81974e3",
   "metadata": {},
   "source": [
    "expected outcome and significance:"
   ]
  }
 ],
 "metadata": {
  "kernelspec": {
   "display_name": "R",
   "language": "R",
   "name": "ir"
  },
  "language_info": {
   "codemirror_mode": "r",
   "file_extension": ".r",
   "mimetype": "text/x-r-source",
   "name": "R",
   "pygments_lexer": "r",
   "version": "4.3.1"
  }
 },
 "nbformat": 4,
 "nbformat_minor": 5
}

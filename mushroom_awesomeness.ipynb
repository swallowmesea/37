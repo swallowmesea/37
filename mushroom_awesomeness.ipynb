{
 "cells": [
  {
   "cell_type": "markdown",
   "id": "8e7e8ae5-a45a-4275-af87-ec0acb92b331",
   "metadata": {},
   "source": [
    "introduction:"
   ]
  },
  {
   "cell_type": "markdown",
   "id": "128abd49-4afb-4710-b4d0-862cba819c42",
   "metadata": {},
   "source": [
    "preliminary exploratory data analysis (resources): https://www.kaggle.com/datasets/uciml/mushroom-classification"
   ]
  },
  {
   "cell_type": "code",
   "execution_count": 1,
   "id": "fecc2991-4e3d-4934-9e8d-801bbfa24000",
   "metadata": {},
   "outputs": [],
   "source": [
    "#code\n",
    "mushroom <- read_csv('data/m"
   ]
  },
  {
   "cell_type": "markdown",
   "id": "a06c8fed-9cc6-4c8b-9137-283efeacafcc",
   "metadata": {},
   "source": [
    "methods:"
   ]
  },
  {
   "cell_type": "markdown",
   "id": "797e63e2-8e0e-44e9-8c3f-6ec24593a215",
   "metadata": {},
   "source": [
    "expected outcome and significance:"
   ]
  }
 ],
 "metadata": {
  "kernelspec": {
   "display_name": "R",
   "language": "R",
   "name": "ir"
  },
  "language_info": {
   "codemirror_mode": "r",
   "file_extension": ".r",
   "mimetype": "text/x-r-source",
   "name": "R",
   "pygments_lexer": "r",
   "version": "4.3.1"
  }
 },
 "nbformat": 4,
 "nbformat_minor": 5
}
